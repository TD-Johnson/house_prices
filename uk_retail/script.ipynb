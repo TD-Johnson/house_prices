{
 "cells": [
  {
   "cell_type": "markdown",
   "metadata": {},
   "source": [
    "### 1. Enviroment set up"
   ]
  },
  {
   "cell_type": "code",
   "execution_count": 2,
   "metadata": {},
   "outputs": [],
   "source": [
    "# Libraries\n",
    "import psycopg2\n",
    "import pandas as pd\n",
    "from sqlalchemy import create_engine, text"
   ]
  },
  {
   "cell_type": "code",
   "execution_count": 4,
   "metadata": {},
   "outputs": [],
   "source": [
    "# Define the database parameters\n",
    "\n",
    "db_params = {\n",
    "    'host' : 'localhost',\n",
    "    'user' : 'postgres',\n",
    "    'password' : 'postgres',\n",
    "    'database' : 'postgres'\n",
    "}"
   ]
  },
  {
   "cell_type": "markdown",
   "metadata": {},
   "source": [
    "### 2. Creating the postgresql database"
   ]
  },
  {
   "cell_type": "code",
   "execution_count": 6,
   "metadata": {},
   "outputs": [],
   "source": [
    "# Create a connection to the postgresql database\n",
    "\n",
    "connection = psycopg2.connect(\n",
    "    host = db_params['host'],\n",
    "    database = db_params['database'],\n",
    "    user = db_params['user'],\n",
    "    password = db_params['password']\n",
    ")\n",
    "\n",
    "# Create a cursor object, allows me to execute sql queries\n",
    "cursor = connection.cursor()\n",
    "\n",
    "# set automatic commit to true, so each action is committed without having to call con.commit()\n",
    "connection.set_session(autocommit = True)\n",
    "\n",
    "# Create the 'retail' database\n",
    "cursor.execute('CREATE DATABASE retail')\n",
    "\n",
    "# Close connection to postgres database, leaving connection to retail database open and commit changes\n",
    "connection.commit()\n",
    "cursor.close()\n",
    "connection.close()\n"
   ]
  },
  {
   "cell_type": "markdown",
   "metadata": {},
   "source": [
    "### 3. Loading the data into the database"
   ]
  },
  {
   "cell_type": "code",
   "execution_count": 12,
   "metadata": {},
   "outputs": [
    {
     "data": {
      "text/plain": [
       "909"
      ]
     },
     "execution_count": 12,
     "metadata": {},
     "output_type": "execute_result"
    }
   ],
   "source": [
    "# Connect to the retail database\n",
    "db_params['database'] = 'retail'\n",
    "engine = create_engine(f'postgresql://{db_params[\"user\"]}:{db_params[\"password\"]}@{db_params[\"host\"]}/{db_params[\"database\"]}')\n",
    "\n",
    "# import data\n",
    "data = pd.read_csv('data/Online Retail.csv')\n",
    "\n",
    "# Load the data to the database\n",
    "data.to_sql(name = 'retail', con = engine, if_exists = 'replace', index = 'False')\n"
   ]
  }
 ],
 "metadata": {
  "kernelspec": {
   "display_name": ".venv",
   "language": "python",
   "name": "python3"
  },
  "language_info": {
   "codemirror_mode": {
    "name": "ipython",
    "version": 3
   },
   "file_extension": ".py",
   "mimetype": "text/x-python",
   "name": "python",
   "nbconvert_exporter": "python",
   "pygments_lexer": "ipython3",
   "version": "3.10.12"
  }
 },
 "nbformat": 4,
 "nbformat_minor": 2
}
